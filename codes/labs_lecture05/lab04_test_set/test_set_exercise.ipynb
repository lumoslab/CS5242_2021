{
 "cells": [
  {
   "cell_type": "markdown",
   "metadata": {},
   "source": [
    "# Lab 04 : Test set evaluation -- exercise"
   ]
  },
  {
   "cell_type": "code",
   "execution_count": null,
   "metadata": {},
   "outputs": [],
   "source": [
    "# For Google Colaboratory\n",
    "import sys, os\n",
    "if 'google.colab' in sys.modules:\n",
    "    # mount google drive\n",
    "    from google.colab import drive\n",
    "    drive.mount('/content/gdrive')\n",
    "    # find automatically the path of the folder containing \"file_name\" :\n",
    "    file_name = 'test_set_exercise.ipynb'\n",
    "    import subprocess\n",
    "    path_to_file = subprocess.check_output('find . -type f -name ' + str(file_name), shell=True).decode(\"utf-8\")\n",
    "    path_to_file = path_to_file.replace(file_name,\"\").replace('\\n',\"\")\n",
    "    # if previous search failed or too long, comment the previous line and simply write down manually the path below :\n",
    "    #path_to_file = '/content/gdrive/My Drive/CS5242_2021_codes/codes/labs_lecture05/lab04_test_set'\n",
    "    print(path_to_file)\n",
    "    # change current path to the folder containing \"file_name\"\n",
    "    os.chdir(path_to_file)\n",
    "    !pwd"
   ]
  },
  {
   "cell_type": "code",
   "execution_count": 1,
   "metadata": {},
   "outputs": [],
   "source": [
    "import torch\n",
    "import torch.nn as nn\n",
    "import torch.optim as optim\n",
    "from random import randint\n",
    "import utils"
   ]
  },
  {
   "cell_type": "markdown",
   "metadata": {},
   "source": [
    "### Download the CIFAR dataset -- check the size carefully!"
   ]
  },
  {
   "cell_type": "code",
   "execution_count": 2,
   "metadata": {},
   "outputs": [
    {
     "name": "stdout",
     "output_type": "stream",
     "text": [
      "torch.Size([50000, 3, 32, 32])\n"
     ]
    }
   ],
   "source": [
    "from utils import check_cifar_dataset_exists\n",
    "data_path=check_cifar_dataset_exists()\n",
    "\n",
    "train_data=torch.load(data_path+'cifar/train_data.pt')\n",
    "train_label=torch.load(data_path+'cifar/train_label.pt')\n",
    "test_data=torch.load(data_path+'cifar/test_data.pt')\n",
    "test_label=torch.load(data_path+'cifar/test_label.pt')\n",
    "\n",
    "print(train_data.size())"
   ]
  },
  {
   "cell_type": "markdown",
   "metadata": {},
   "source": [
    "### Make a ONE layer net class. "
   ]
  },
  {
   "cell_type": "code",
   "execution_count": 3,
   "metadata": {},
   "outputs": [],
   "source": [
    "class one_layer_net(nn.Module):\n",
    "\n",
    "    def __init__(self, input_size, output_size):\n",
    "        super(one_layer_net , self).__init__()\n",
    "        self.linear_layer = nn.Linear( input_size, output_size , bias=True)\n",
    "        \n",
    "    def forward(self, x):\n",
    "        scores = self.linear_layer(x)\n",
    "        return scores"
   ]
  },
  {
   "cell_type": "markdown",
   "metadata": {},
   "source": [
    "### Build the net. "
   ]
  },
  {
   "cell_type": "code",
   "execution_count": 4,
   "metadata": {},
   "outputs": [
    {
     "name": "stdout",
     "output_type": "stream",
     "text": [
      "one_layer_net(\n",
      "  (linear_layer): Linear(in_features=3072, out_features=10, bias=True)\n",
      ")\n"
     ]
    }
   ],
   "source": [
    "net=one_layer_net(3072,10)\n",
    "print(net)"
   ]
  },
  {
   "cell_type": "markdown",
   "metadata": {},
   "source": [
    "### Choose the criterion and optimizer. Also choose:\n"
   ]
  },
  {
   "cell_type": "code",
   "execution_count": 5,
   "metadata": {},
   "outputs": [],
   "source": [
    "criterion = nn.CrossEntropyLoss()\n",
    "optimizer=torch.optim.SGD( net.parameters() , lr=0.01 )\n",
    "bs=20"
   ]
  },
  {
   "cell_type": "markdown",
   "metadata": {},
   "source": [
    "### Do 50 passes through the training set."
   ]
  },
  {
   "cell_type": "code",
   "execution_count": 6,
   "metadata": {},
   "outputs": [
    {
     "name": "stdout",
     "output_type": "stream",
     "text": [
      "epoch= 0 \t loss= 1.9561180581092834 \t error= 69.56399999141694 percent\n",
      "epoch= 1 \t loss= 1.8638831567287446 \t error= 65.50199989795685 percent\n",
      "epoch= 2 \t loss= 1.8355637256622315 \t error= 64.1499999833107 percent\n",
      "epoch= 3 \t loss= 1.8150727023124695 \t error= 63.22199996232987 percent\n",
      "epoch= 4 \t loss= 1.8032404947042464 \t error= 62.731999950408934 percent\n",
      "epoch= 5 \t loss= 1.7980631164073944 \t error= 62.315999968051905 percent\n",
      "epoch= 6 \t loss= 1.7876060901880264 \t error= 61.904000029563896 percent\n",
      "epoch= 7 \t loss= 1.7826984255075455 \t error= 61.99600005149841 percent\n",
      "epoch= 8 \t loss= 1.7759628768444062 \t error= 61.546000039577486 percent\n",
      "epoch= 9 \t loss= 1.7727636613845825 \t error= 61.37599998474121 percent\n",
      "epoch= 10 \t loss= 1.7722773720264435 \t error= 61.49199997901916 percent\n",
      "epoch= 11 \t loss= 1.760805614233017 \t error= 60.8919999742508 percent\n",
      "epoch= 12 \t loss= 1.7625265974998474 \t error= 61.044000022411346 percent\n",
      "epoch= 13 \t loss= 1.7577327288627624 \t error= 60.57399997949601 percent\n",
      "epoch= 14 \t loss= 1.7559016656160356 \t error= 60.53800003767014 percent\n",
      "epoch= 15 \t loss= 1.756670422267914 \t error= 60.79000005483627 percent\n",
      "epoch= 16 \t loss= 1.7496245383501052 \t error= 60.2460000538826 percent\n",
      "epoch= 17 \t loss= 1.7476983367204666 \t error= 60.274000015258785 percent\n",
      "epoch= 18 \t loss= 1.74874375936985 \t error= 60.45600002765655 percent\n",
      "epoch= 19 \t loss= 1.743387537074089 \t error= 60.08199999570847 percent\n",
      "epoch= 20 \t loss= 1.7387156575679779 \t error= 60.03999993801117 percent\n",
      "epoch= 21 \t loss= 1.7417369634628297 \t error= 60.08800003051758 percent\n",
      "epoch= 22 \t loss= 1.7400436836481095 \t error= 59.98200002908707 percent\n",
      "epoch= 23 \t loss= 1.7385849195480347 \t error= 59.710000030994415 percent\n",
      "epoch= 24 \t loss= 1.7367975116252898 \t error= 59.95999999046325 percent\n",
      "epoch= 25 \t loss= 1.7348565583229065 \t error= 59.77600001096726 percent\n",
      "epoch= 26 \t loss= 1.7334777607440948 \t error= 59.70599996805191 percent\n",
      "epoch= 27 \t loss= 1.7313700300693513 \t error= 59.679999971389776 percent\n",
      "epoch= 28 \t loss= 1.7362378192186356 \t error= 59.65799997568131 percent\n",
      "epoch= 29 \t loss= 1.728713562273979 \t error= 59.48600003004074 percent\n",
      "epoch= 30 \t loss= 1.7301350041866304 \t error= 59.59800004005432 percent\n",
      "epoch= 31 \t loss= 1.7253274070739746 \t error= 59.36200000762939 percent\n",
      "epoch= 32 \t loss= 1.7241421199798583 \t error= 59.21800004243851 percent\n",
      "epoch= 33 \t loss= 1.7243350894927978 \t error= 59.44200001478195 percent\n",
      "epoch= 34 \t loss= 1.7224102782011033 \t error= 59.28400002479554 percent\n",
      "epoch= 35 \t loss= 1.7259931971549989 \t error= 59.4159999704361 percent\n",
      "epoch= 36 \t loss= 1.7195215386390685 \t error= 59.109999997615816 percent\n",
      "epoch= 37 \t loss= 1.7202680552482605 \t error= 59.10600006103516 percent\n",
      "epoch= 38 \t loss= 1.7202044271945953 \t error= 59.34199997425079 percent\n",
      "epoch= 39 \t loss= 1.72086381983757 \t error= 59.136000051498414 percent\n",
      "epoch= 40 \t loss= 1.7182603358268738 \t error= 59.21600006341934 percent\n",
      "epoch= 41 \t loss= 1.7166312672615052 \t error= 59.17399999380112 percent\n",
      "epoch= 42 \t loss= 1.715519263625145 \t error= 59.03200003862381 percent\n",
      "epoch= 43 \t loss= 1.714373451948166 \t error= 58.995999970436095 percent\n",
      "epoch= 44 \t loss= 1.7146156408786775 \t error= 58.960000050067904 percent\n",
      "epoch= 45 \t loss= 1.7138186139583587 \t error= 59.1300000500679 percent\n",
      "epoch= 46 \t loss= 1.713705331492424 \t error= 58.78599999666214 percent\n",
      "epoch= 47 \t loss= 1.7105804777145386 \t error= 58.61200007200241 percent\n",
      "epoch= 48 \t loss= 1.7123818427562714 \t error= 58.93600001573562 percent\n",
      "epoch= 49 \t loss= 1.712835810804367 \t error= 58.87200008392334 percent\n"
     ]
    }
   ],
   "source": [
    "for epoch in range(50):\n",
    "    \n",
    "    running_loss=0\n",
    "    running_error=0\n",
    "    num_batches=0\n",
    "    \n",
    "    shuffled_indices=torch.randperm(50000)\n",
    " \n",
    "    for count in range(0,50000,bs):\n",
    "    \n",
    "        # Set the gradients to zeros\n",
    "        optimizer.zero_grad()\n",
    "        \n",
    "        # create a minibatch       \n",
    "        indices=shuffled_indices[count:count+bs]\n",
    "        minibatch_data =  train_data[indices]\n",
    "        minibatch_label= train_label[indices]\n",
    "\n",
    "        # reshape the minibatch\n",
    "        inputs = minibatch_data.view(bs,3072)\n",
    "\n",
    "        # tell Pytorch to start tracking all operations that will be done on \"inputs\"\n",
    "        inputs.requires_grad_()\n",
    "\n",
    "        # forward the minibatch through the net \n",
    "        scores=net( inputs ) \n",
    "\n",
    "        # Compute the average of the losses of the data points in the minibatch\n",
    "        loss =  criterion( scores , minibatch_label) \n",
    "        \n",
    "        # backward pass to compute dL/dU, dL/dV and dL/dW   \n",
    "        loss.backward()\n",
    "\n",
    "        # do one step of stochastic gradient descent: U=U-lr(dL/dU), V=V-lr(dL/dU), ...\n",
    "        optimizer.step()\n",
    "        \n",
    "        # START COMPUTING STATS\n",
    "        \n",
    "        # add the loss of this batch to the running loss\n",
    "        running_loss += loss.detach().item()\n",
    "        \n",
    "        # compute the error made on this batch and add it to the running error       \n",
    "        error = utils.get_error( scores.detach() , minibatch_label)\n",
    "        running_error += error.item()\n",
    "        \n",
    "        num_batches+=1\n",
    "    \n",
    "    \n",
    "    # compute stats for the full training set\n",
    "    total_loss = running_loss/num_batches\n",
    "    total_error = running_error/num_batches\n",
    "    \n",
    "    print('epoch=',epoch, '\\t loss=', total_loss , '\\t error=', total_error*100 ,'percent')\n",
    "        \n",
    "    "
   ]
  },
  {
   "cell_type": "markdown",
   "metadata": {},
   "source": [
    "# You only have to complete this cell"
   ]
  },
  {
   "cell_type": "markdown",
   "metadata": {},
   "source": [
    "### So we are doing around 59% error on the training set. BUT how much are we doing on test set?"
   ]
  },
  {
   "cell_type": "code",
   "execution_count": 16,
   "metadata": {},
   "outputs": [
    {
     "name": "stdout",
     "output_type": "stream",
     "text": [
      "error rate on test set = 64.72000001668931 percent\n"
     ]
    }
   ],
   "source": [
    "running_error= 0 # COMPLETE HERE\n",
    "num_batches= 0 # COMPLETE HERE\n",
    "\n",
    "\n",
    "for count in range(0, 10000, bs): # COMPLETE HERE\n",
    "\n",
    "    # extract the minibatch\n",
    "    minibatch_data = test_data[count:count+bs] # COMPLETE HERE\n",
    "    minibatch_label= test_label[count:count+bs] # COMPLETE HERE\n",
    "\n",
    "    # reshape the minibatch\n",
    "    inputs = minibatch_data.view(bs, -1) # COMPLETE HERE\n",
    "\n",
    "    # feed it to the network\n",
    "    scores= net(inputs) # COMPLETE HERE\n",
    "\n",
    "    # compute the error made on this batch\n",
    "    error = utils.get_error(scores, minibatch_label) # COMPLETE HERE\n",
    "    \n",
    "    # add it to the running error\n",
    "    running_error += error.item() # COMPLETE HERE\n",
    "\n",
    "    num_batches += 1 # COMPLETE HERE\n",
    "\n",
    "\n",
    "# compute error rate on the full test set\n",
    "total_error = running_error/num_batches # COMPLETE HERE\n",
    "\n",
    "print( 'error rate on test set =', total_error*100 ,'percent')"
   ]
  },
  {
   "cell_type": "markdown",
   "metadata": {},
   "source": [
    "### Choose image at random from the test set and see how good/bad are the predictions"
   ]
  },
  {
   "cell_type": "code",
   "execution_count": 17,
   "metadata": {},
   "outputs": [
    {
     "data": {
      "image/png": "[encoded data removed]",
      "text/plain": [
       "<Figure size 432x288 with 1 Axes>"
      ]
     },
     "metadata": {
      "needs_background": "light"
     },
     "output_type": "display_data"
    },
    {
     "data": {
      "image/png": "[encoded data removed]",
      "text/plain": [
       "<Figure size 640x480 with 1 Axes>"
      ]
     },
     "metadata": {},
     "output_type": "display_data"
    }
   ],
   "source": [
    "# choose a picture at random\n",
    "idx=randint(0, 10000-1)\n",
    "im=test_data[idx]\n",
    "\n",
    "# diplay the picture\n",
    "utils.show(im)\n",
    "\n",
    "# feed it to the net and display the confidence scores\n",
    "scores =  net( im.view(1,3072)) \n",
    "probs= torch.softmax(scores, dim=1)\n",
    "utils.show_prob_cifar(probs)"
   ]
  },
  {
   "cell_type": "code",
   "execution_count": null,
   "metadata": {},
   "outputs": [],
   "source": []
  }
 ],
 "metadata": {
  "kernelspec": {
   "display_name": "Python 3 (ipykernel)",
   "language": "python",
   "name": "python3"
  },
  "language_info": {
   "codemirror_mode": {
    "name": "ipython",
    "version": 3
   },
   "file_extension": ".py",
   "mimetype": "text/x-python",
   "name": "python",
   "nbconvert_exporter": "python",
   "pygments_lexer": "ipython3",
   "version": "3.7.10"
  }
 },
 "nbformat": 4,
 "nbformat_minor": 2
}
